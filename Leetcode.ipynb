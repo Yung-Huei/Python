{
  "nbformat": 4,
  "nbformat_minor": 0,
  "metadata": {
    "colab": {
      "provenance": [],
      "authorship_tag": "ABX9TyMt5QX9OEOF8TORvhWn4Xiq",
      "include_colab_link": true
    },
    "kernelspec": {
      "name": "python3",
      "display_name": "Python 3"
    },
    "language_info": {
      "name": "python"
    }
  },
  "cells": [
    {
      "cell_type": "markdown",
      "metadata": {
        "id": "view-in-github",
        "colab_type": "text"
      },
      "source": [
        "<a href=\"https://colab.research.google.com/github/Yung-Huei/Python/blob/main/Leetcode.ipynb\" target=\"_parent\"><img src=\"https://colab.research.google.com/assets/colab-badge.svg\" alt=\"Open In Colab\"/></a>"
      ]
    },
    {
      "cell_type": "markdown",
      "source": [
        "Merge Sorted Array (陣列排序並合併)"
      ],
      "metadata": {
        "id": "srP6E7oiTu_7"
      }
    },
    {
      "cell_type": "code",
      "source": [
        "class Solution(object):\n",
        "    def merge(self, nums1, m, nums2, n):\n",
        "        i = m - 1\n",
        "        j = n - 1\n",
        "        k = m + n - 1\n",
        "\n",
        "        while j >= 0:\n",
        "            if i >= 0 and nums1[i] > nums2[j]:\n",
        "                nums1[k] = nums1[i]\n",
        "                i -= 1\n",
        "            else:\n",
        "                nums1[k] = nums2[j]\n",
        "                j -= 1\n",
        "            k -= 1"
      ],
      "metadata": {
        "id": "4o17bVvGTacd"
      },
      "execution_count": null,
      "outputs": []
    },
    {
      "cell_type": "markdown",
      "source": [
        "排序一個整數陣列(從大排到小 and 從小排到大) 注意: 排序中常見陷阱題：有空值\n"
      ],
      "metadata": {
        "id": "jC1IfzoGUEWf"
      }
    },
    {
      "cell_type": "code",
      "source": [
        "arr = [5, 2, 9, 1, 5, 6]\n",
        "#arr.sort()\n",
        "sorted_arr = sorted(arr)\n",
        "print(sorted_arr)\n",
        "\n",
        "arr = [5, 2, 9, 1, 5, 6]\n",
        "#arr.sort(reverse=True)\n",
        "sorted_arr2 = sorted(arr, reverse=True)\n",
        "print(sorted_arr2)\n",
        "\n",
        "arr = [3, None, 1, 2]\n",
        "# 排序時要處理 None（否則會出錯）\n",
        "arr_sorted = sorted(arr, key=lambda x: (x is None, x)) #先按照tuple 第一欄排序\n",
        "print(arr_sorted)"
      ],
      "metadata": {
        "colab": {
          "base_uri": "https://localhost:8080/"
        },
        "id": "hSCk0h6kUQkp",
        "outputId": "dfe07589-ba58-443b-ed4f-db49bc36af7a"
      },
      "execution_count": 13,
      "outputs": [
        {
          "output_type": "stream",
          "name": "stdout",
          "text": [
            "[1, 2, 5, 5, 6, 9]\n",
            "[9, 6, 5, 5, 2, 1]\n",
            "[1, 2, 3, None]\n"
          ]
        }
      ]
    },
    {
      "cell_type": "code",
      "source": [
        "words = [\"apple\", \"dog\", \"banana\", \"cat\"]\n",
        "sorted_words = sorted(words, key=len) #key 可以讓你用任何函數來作為排序依據\n",
        "print(sorted_words)"
      ],
      "metadata": {
        "colab": {
          "base_uri": "https://localhost:8080/"
        },
        "id": "Tp0XTBGtZUjE",
        "outputId": "fdc60837-538b-4496-d0b0-c090efca3faa"
      },
      "execution_count": 10,
      "outputs": [
        {
          "output_type": "stream",
          "name": "stdout",
          "text": [
            "['dog', 'cat', 'apple', 'banana']\n"
          ]
        }
      ]
    },
    {
      "cell_type": "markdown",
      "source": [
        "字典排序"
      ],
      "metadata": {
        "id": "Bst8DPV6UvBo"
      }
    },
    {
      "cell_type": "code",
      "source": [
        "students = [\n",
        "    {\"name\": \"Alice\", \"score\": 90},\n",
        "    {\"name\": \"Bob\", \"score\": 85},\n",
        "    {\"name\": \"Cathy\", \"score\": 95}\n",
        "]\n",
        "\n",
        "# 依 score 排序\n",
        "sorted_students = sorted(students, key=lambda x: x[\"score\"])\n"
      ],
      "metadata": {
        "id": "cVXx4DRQhT1T"
      },
      "execution_count": null,
      "outputs": []
    },
    {
      "cell_type": "markdown",
      "source": [
        "依二維陣列第 i 欄排序"
      ],
      "metadata": {
        "id": "llzrRLlHUQ8T"
      }
    },
    {
      "cell_type": "code",
      "source": [
        "arr = [[1, 3], [4, 2], [5, 1]]\n",
        "# 按照第二欄排序（index = 1）\n",
        "print(arr)\n",
        "arr_sorted = sorted(arr, key=lambda x: x[1]) #匿名函數\n"
      ],
      "metadata": {
        "id": "CQmWbz6yZu-e"
      },
      "execution_count": null,
      "outputs": []
    },
    {
      "cell_type": "markdown",
      "source": [
        "找出第 k 大元素（如第 2 大）"
      ],
      "metadata": {
        "id": "oNVG-8CiUURz"
      }
    },
    {
      "cell_type": "code",
      "source": [
        "arr = [3, 2, 1, 5, 6, 4]\n",
        "k = 2\n",
        "result = sorted(arr, reverse=True)[k - 1]  # 第 k 大\n"
      ],
      "metadata": {
        "id": "zK6ZhZj8iDCd"
      },
      "execution_count": null,
      "outputs": []
    },
    {
      "cell_type": "markdown",
      "source": [
        "用排序檢查兩個陣列是否為排列組合（Anagram）"
      ],
      "metadata": {
        "id": "ZccgxtaAUeBy"
      }
    },
    {
      "cell_type": "code",
      "source": [
        "a = \"listen\"\n",
        "b = \"silent\"\n",
        "\n",
        "is_anagram = sorted(a) == sorted(b)  # True"
      ],
      "metadata": {
        "id": "GwHkNcCEiVYb"
      },
      "execution_count": null,
      "outputs": []
    }
  ]
}