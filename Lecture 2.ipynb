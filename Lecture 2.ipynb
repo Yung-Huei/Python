{
  "nbformat": 4,
  "nbformat_minor": 0,
  "metadata": {
    "colab": {
      "provenance": [],
      "authorship_tag": "ABX9TyPrv6Dk8zAED+S07mWOktJG",
      "include_colab_link": true
    },
    "kernelspec": {
      "name": "python3",
      "display_name": "Python 3"
    },
    "language_info": {
      "name": "python"
    }
  },
  "cells": [
    {
      "cell_type": "markdown",
      "metadata": {
        "id": "view-in-github",
        "colab_type": "text"
      },
      "source": [
        "<a href=\"https://colab.research.google.com/github/Yung-Huei/Python/blob/main/Lecture%202.ipynb\" target=\"_parent\"><img src=\"https://colab.research.google.com/assets/colab-badge.svg\" alt=\"Open In Colab\"/></a>"
      ]
    },
    {
      "cell_type": "code",
      "execution_count": 8,
      "metadata": {
        "colab": {
          "base_uri": "https://localhost:8080/"
        },
        "id": "NilBdSYXZ8ku",
        "outputId": "a99e65a5-f828-442d-ce0d-2a40278c9fa2"
      },
      "outputs": [
        {
          "output_type": "stream",
          "name": "stdout",
          "text": [
            "5\n",
            "3\n",
            "8\n"
          ]
        }
      ],
      "source": [
        "#文字資料的寫入\n",
        "# file=open(\"data.txt\",mode=\"w\",encoding=\"utf-8\") #創文字檔 中文要加:,encoding=\"utf-8\"\n",
        "# file.write(\"Hello\\n 您好\") #寫入文字\n",
        "# file.close() #關閉檔案\n",
        "\n",
        "#最佳寫法(with會安全地開啟與關閉)\n",
        "with open(\"data.txt\",mode=\"w\",encoding=\"utf-8\") as file:\n",
        "  file.write(\"5\\n3\")\n",
        "\n",
        "#讀取存在的檔案\n",
        "with open(\"data.txt\",mode=\"r\",encoding=\"utf-8\") as file:\n",
        "  data=file.read()\n",
        "print(data)\n",
        "\n",
        "#一行一行讀取資料並相加\n",
        "sum=0\n",
        "with open(\"data.txt\",mode=\"r\") as file:\n",
        "  for line in file:\n",
        "    sum+=int(line)\n",
        "print(sum)\n",
        "\n",
        "#python 可以讀取/寫入json資料"
      ]
    },
    {
      "cell_type": "code",
      "source": [
        "import random\n",
        "#隨機抽\n",
        "data=random.sample([1,3,5,7],3)\n",
        "print(data)\n",
        "#洗牌\n",
        "data=[2,4,6,8]\n",
        "random.shuffle(data)\n",
        "print(data)\n",
        "#0~1之間抽\n",
        "data=random.random()\n",
        "print(data)\n",
        "#生成 uniform\n",
        "data=random.uniform(0,3)\n",
        "print(data)\n",
        "#生成常態\n",
        "data=random.normalvariate(100,10)\n",
        "print(data)"
      ],
      "metadata": {
        "colab": {
          "base_uri": "https://localhost:8080/"
        },
        "id": "XWmsuFCKiXwX",
        "outputId": "8cf4d42f-24d1-4f12-b08a-ebfdff0d4445"
      },
      "execution_count": 15,
      "outputs": [
        {
          "output_type": "stream",
          "name": "stdout",
          "text": [
            "[1, 5, 7]\n",
            "[2, 8, 6, 4]\n",
            "0.929534633990831\n",
            "0.4073765193447453\n",
            "116.93089096704185\n"
          ]
        }
      ]
    },
    {
      "cell_type": "code",
      "source": [
        "import statistics as stat\n",
        "data=stat.mean([1,4,5,7])\n",
        "data=stat.median([1,4,5,7])\n",
        "data=stat.stdev([1,4,5,7])\n",
        "print(data)"
      ],
      "metadata": {
        "colab": {
          "base_uri": "https://localhost:8080/"
        },
        "id": "84tzfU90t_qb",
        "outputId": "3076b403-5c44-4d66-9892-83aaa81985ac"
      },
      "execution_count": 18,
      "outputs": [
        {
          "output_type": "stream",
          "name": "stdout",
          "text": [
            "2.5\n"
          ]
        }
      ]
    },
    {
      "cell_type": "code",
      "source": [
        "#取得網頁原始碼\n",
        "import urllib.request as req\n",
        "import json\n",
        "url=\"https://data.taipei/api/v1/dataset/296acfa2-5d93-4706-ad58-e83cc951863c?scope=resourceAquire\"\n",
        "with req.urlopen(url) as response:\n",
        "  data=json.load(response)\n",
        "print(data)\n",
        "\n",
        "clist=data[\"result\"][\"results\"]\n",
        "with open(\"company.txt\",mode=\"w\",encoding=\"utf-8\") as file:\n",
        "  for company in clist:\n",
        "      file.write(company[\"公司名稱\"]+\"\\n\")\n",
        ""
      ],
      "metadata": {
        "colab": {
          "base_uri": "https://localhost:8080/"
        },
        "id": "GIc6umxJwOup",
        "outputId": "69647d7c-7303-4780-cea1-1a9d75998164"
      },
      "execution_count": 25,
      "outputs": [
        {
          "output_type": "stream",
          "name": "stdout",
          "text": [
            "{'result': {'limit': 20, 'offset': 0, 'count': 5711, 'sort': '', 'results': [{'_id': 1, '_importdate': {'date': '2025-06-06 14:51:04.001283', 'timezone_type': 3, 'timezone': 'Asia/Taipei'}, '統編': '00003045', '公司名稱': '立欣國際有限公司', '公司地址': '114臺北市內湖區陽光街349號4樓', 'addr_x': '308269', 'addr_y': '2773995'}, {'_id': 2, '_importdate': {'date': '2025-06-06 14:51:04.011969', 'timezone_type': 3, 'timezone': 'Asia/Taipei'}, '統編': '00013640', '公司名稱': '摹儗股份有限公司', '公司地址': '114臺北市內湖區洲子街12號2樓', 'addr_x': '308009', 'addr_y': '2774565'}, {'_id': 3, '_importdate': {'date': '2025-06-06 14:51:04.014494', 'timezone_type': 3, 'timezone': 'Asia/Taipei'}, '統編': '00019829', '公司名稱': '諾法科技有限公司', '公司地址': '114臺北市內湖區內湖路1段66號3樓', 'addr_x': '306721', 'addr_y': '2775163'}, {'_id': 4, '_importdate': {'date': '2025-06-06 14:51:04.017385', 'timezone_type': 3, 'timezone': 'Asia/Taipei'}, '統編': '00019996', '公司名稱': '藍色地平線股份有限公司', '公司地址': '114臺北市內湖區瑞光路582號7樓之1', 'addr_x': '307133', 'addr_y': '2774770'}, {'_id': 5, '_importdate': {'date': '2025-06-06 14:51:04.019642', 'timezone_type': 3, 'timezone': 'Asia/Taipei'}, '統編': '00023817', '公司名稱': '詠富國際數位有限公司', '公司地址': '114臺北市內湖區基湖路1號8樓之1', 'addr_x': '307051', 'addr_y': '2774944'}, {'_id': 6, '_importdate': {'date': '2025-06-06 14:51:04.021202', 'timezone_type': 3, 'timezone': 'Asia/Taipei'}, '統編': '00027102', '公司名稱': '台企再造壹股份有限公司', '公司地址': '114臺北市內湖區瑞光路618號10樓之1', 'addr_x': '307038', 'addr_y': '2774816'}, {'_id': 7, '_importdate': {'date': '2025-06-06 14:51:04.022654', 'timezone_type': 3, 'timezone': 'Asia/Taipei'}, '統編': '00034130', '公司名稱': '安大資本股份有限公司', '公司地址': '114臺北市內湖區洲子街79號2樓', 'addr_x': '307648', 'addr_y': '2774778'}, {'_id': 8, '_importdate': {'date': '2025-06-06 14:51:04.024155', 'timezone_type': 3, 'timezone': 'Asia/Taipei'}, '統編': '00037185', '公司名稱': '翰宇創業投資股份有限公司', '公司地址': '114臺北市內湖區陽光街321巷56號5樓之6', 'addr_x': '308299', 'addr_y': '2773836'}, {'_id': 9, '_importdate': {'date': '2025-06-06 14:51:04.025661', 'timezone_type': 3, 'timezone': 'Asia/Taipei'}, '統編': '00038591', '公司名稱': '敦品壹號創新投資股份有限公司', '公司地址': '114臺北市內湖區港墘路221巷37號4樓之1', 'addr_x': '307992', 'addr_y': '2774053'}, {'_id': 10, '_importdate': {'date': '2025-06-06 14:51:04.027045', 'timezone_type': 3, 'timezone': 'Asia/Taipei'}, '統編': '00041907', '公司名稱': '亞太空中移動股份有限公司', '公司地址': '114臺北市內湖區洲子街12號2樓', 'addr_x': '308009', 'addr_y': '2774565'}, {'_id': 11, '_importdate': {'date': '2025-06-06 14:51:04.028580', 'timezone_type': 3, 'timezone': 'Asia/Taipei'}, '統編': '00058224', '公司名稱': '敦品貳號創新投資股份有限公司', '公司地址': '114臺北市內湖區港墘路221巷37號4樓之1', 'addr_x': '307992', 'addr_y': '2774053'}, {'_id': 12, '_importdate': {'date': '2025-06-06 14:51:04.030107', 'timezone_type': 3, 'timezone': 'Asia/Taipei'}, '統編': '00060538', '公司名稱': '無二電影有限公司', '公司地址': '114臺北市內湖區內湖路1段324號9樓', 'addr_x': '307495', 'addr_y': '2774939'}, {'_id': 13, '_importdate': {'date': '2025-06-06 14:51:04.031810', 'timezone_type': 3, 'timezone': 'Asia/Taipei'}, '統編': '00065689', '公司名稱': '哈哈健康促進學苑有限公司', '公司地址': '114臺北市內湖區內湖路1段360巷15號3樓之3', 'addr_x': '307574', 'addr_y': '2774863'}, {'_id': 14, '_importdate': {'date': '2025-06-06 14:51:04.034821', 'timezone_type': 3, 'timezone': 'Asia/Taipei'}, '統編': '00066527', '公司名稱': '雲嘉投資有限公司', '公司地址': '114臺北市內湖區瑞光路76巷61號4樓', 'addr_x': '308537', 'addr_y': '2773669'}, {'_id': 15, '_importdate': {'date': '2025-06-06 14:51:04.036239', 'timezone_type': 3, 'timezone': 'Asia/Taipei'}, '統編': '00072507', '公司名稱': '吉帝國際投資有限公司', '公司地址': '114臺北市內湖區瑞光路76巷61號4樓', 'addr_x': '308537', 'addr_y': '2773669'}, {'_id': 16, '_importdate': {'date': '2025-06-06 14:51:04.037894', 'timezone_type': 3, 'timezone': 'Asia/Taipei'}, '統編': '00073549', '公司名稱': '達盈智能股份有限公司', '公司地址': '114臺北市內湖區洲子街105號8樓', 'addr_x': '307457', 'addr_y': '2774855'}, {'_id': 17, '_importdate': {'date': '2025-06-06 14:51:04.040274', 'timezone_type': 3, 'timezone': 'Asia/Taipei'}, '統編': '00074266', '公司名稱': '連迎國際諮詢服務有限公司', '公司地址': '114臺北市內湖區內湖路1段360巷8號8樓', 'addr_x': '307532', 'addr_y': '2774842'}, {'_id': 18, '_importdate': {'date': '2025-06-06 14:51:04.041750', 'timezone_type': 3, 'timezone': 'Asia/Taipei'}, '統編': '00075440', '公司名稱': '仲和資產管理股份有限公司', '公司地址': '114臺北市內湖區瑞光路360號3樓之1', 'addr_x': '307742', 'addr_y': '2774456'}, {'_id': 19, '_importdate': {'date': '2025-06-06 14:51:04.043156', 'timezone_type': 3, 'timezone': 'Asia/Taipei'}, '統編': '00078410', '公司名稱': '台達控股股份有限公司', '公司地址': '114臺北市內湖區瑞光路180號10樓', 'addr_x': '308338', 'addr_y': '2774101'}, {'_id': 20, '_importdate': {'date': '2025-06-06 14:51:04.044583', 'timezone_type': 3, 'timezone': 'Asia/Taipei'}, '統編': '00078811', '公司名稱': '柒人國際股份有限公司', '公司地址': '114臺北市內湖區民權東路6段15巷30號4樓', 'addr_x': '308308', 'addr_y': '2773473'}]}}\n"
          ]
        }
      ]
    }
  ]
}