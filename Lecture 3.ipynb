{
  "nbformat": 4,
  "nbformat_minor": 0,
  "metadata": {
    "colab": {
      "provenance": [],
      "authorship_tag": "ABX9TyO/VdSdCyQcqG1nGm3SMTmJ",
      "include_colab_link": true
    },
    "kernelspec": {
      "name": "python3",
      "display_name": "Python 3"
    },
    "language_info": {
      "name": "python"
    }
  },
  "cells": [
    {
      "cell_type": "markdown",
      "metadata": {
        "id": "view-in-github",
        "colab_type": "text"
      },
      "source": [
        "<a href=\"https://colab.research.google.com/github/Yung-Huei/Python/blob/main/Lecture%203.ipynb\" target=\"_parent\"><img src=\"https://colab.research.google.com/assets/colab-badge.svg\" alt=\"Open In Colab\"/></a>"
      ]
    },
    {
      "cell_type": "code",
      "execution_count": null,
      "metadata": {
        "colab": {
          "base_uri": "https://localhost:8080/"
        },
        "id": "D93CYIMEerA3",
        "outputId": "16afd7ec-3e91-47e8-c00e-ed03c0fbffef"
      },
      "outputs": [
        {
          "output_type": "stream",
          "name": "stdout",
          "text": [
            "int64\n",
            "3\n",
            "Index(['a', 'b', 'c'], dtype='object')\n",
            "10\n",
            "a    20\n",
            "c    15\n",
            "dtype: int64\n",
            "median 15.0\n",
            "a    40\n",
            "b    20\n",
            "c    30\n",
            "dtype: int64\n",
            "---------\n",
            "0        您好\n",
            "1     hello\n",
            "2    python\n",
            "dtype: object\n",
            "0    2\n",
            "1    5\n",
            "2    6\n",
            "dtype: int64\n",
            "您好,Hello,Python\n",
            "0    False\n",
            "1    False\n",
            "2     True\n",
            "dtype: bool\n",
            "0        您好\n",
            "1     Hello\n",
            "2    Oython\n",
            "dtype: object\n",
            "---------\n",
            "    name  age\n",
            "a  Betty   29\n",
            "b  Brain   24\n",
            "4\n",
            "(2, 2)\n",
            "Index(['a', 'b'], dtype='object')\n",
            "a    Betty\n",
            "b    Brain\n",
            "Name: name, dtype: object\n",
            "name    Betty\n",
            "age        29\n",
            "Name: a, dtype: object\n",
            "name    Betty\n",
            "age        29\n",
            "Name: a, dtype: object\n",
            "name    Betty\n",
            "age        29\n",
            "Name: a, dtype: object\n",
            "---------\n",
            "    name  age birthdate    race\n",
            "a  Betty   29      0725  Yellow\n",
            "b  Brain   24      0620   White\n",
            "---------\n",
            "    name  age birthdate    race\n",
            "a  Betty   29      0725  Yellow\n"
          ]
        }
      ],
      "source": [
        "#pip install pandas\n",
        "import pandas as pd\n",
        "#單維\n",
        "data=pd.Series([20,10,15], index=[\"a\",\"b\",\"c\"])\n",
        "print(data.dtype)\n",
        "print(data.size)\n",
        "print(data.index)\n",
        "print(data[\"b\"])\n",
        "print(data.nlargest(2))\n",
        "print(\"median\", data.median())\n",
        "print(data*2)\n",
        "data=data==20\n",
        "print(\"---------\")\n",
        "#單維字串\n",
        "data=pd.Series([\"您好\",\"Hello\",\"Python\"])\n",
        "print(data.str.lower())\n",
        "print(data.str.len())\n",
        "print(data.str.cat(sep=\",\"))\n",
        "print(data.str.contains(\"P\"))\n",
        "print(data.str.replace(\"P\",\"O\"))\n",
        "print(\"---------\")\n",
        "#多維\n",
        "data=pd.DataFrame({\n",
        "    \"name\":[\"Betty\",\"Brain\"],\n",
        "    \"age\":[29,24]\n",
        "},index=[\"a\",\"b\"])\n",
        "print(data)\n",
        "print(data.size)\n",
        "print(data.shape)\n",
        "print(data.index)\n",
        "print(data[\"name\"])\n",
        "print(data.iloc[0])\n",
        "print(data.iloc[0],sep=\"\\n\")\n",
        "print(data.loc[\"a\"],sep=\"\\n\")\n",
        "print(\"---------\")\n",
        "#增加欄位\n",
        "data[\"birthdate\"]=[\"0725\",\"0620\"]\n",
        "data[\"race\"]=pd.Series([\"White\",\"Yellow\"],index=[\"b\",\"a\"])\n",
        "print(data)\n",
        "print(\"---------\")\n",
        "#篩選資料\n",
        "condition=data[\"age\"]>25\n",
        "filterdata=data[condition]\n",
        "print(filterdata)"
      ]
    }
  ]
}