{
  "nbformat": 4,
  "nbformat_minor": 0,
  "metadata": {
    "colab": {
      "provenance": [],
      "authorship_tag": "ABX9TyPwSx9gqWkTRPYoQU6R/oqj",
      "include_colab_link": true
    },
    "kernelspec": {
      "name": "python3",
      "display_name": "Python 3"
    },
    "language_info": {
      "name": "python"
    }
  },
  "cells": [
    {
      "cell_type": "markdown",
      "metadata": {
        "id": "view-in-github",
        "colab_type": "text"
      },
      "source": [
        "<a href=\"https://colab.research.google.com/github/Yung-Huei/Python/blob/main/Lecture%201.ipynb\" target=\"_parent\"><img src=\"https://colab.research.google.com/assets/colab-badge.svg\" alt=\"Open In Colab\"/></a>"
      ]
    },
    {
      "cell_type": "code",
      "source": [
        "#數字\n",
        "3456\n",
        "3.5\n",
        "#字串\n",
        "\"My name\"\n",
        "\"我的名子\"\n",
        "#boolean\n",
        "True\n",
        "False\n",
        "#List 有順序可動\n",
        "[3,4,5]\n",
        "[\"Betty\",\"Doris\"]\n",
        "#Tuple 有順序不可動\n",
        "(3,4,5)\n",
        "#Set 集合 無順序可動\n",
        "{3,4,5}\n",
        "#Dictionary 字典\n",
        "{\"name\":\"Betty\",\"age\":\"50\"}\n",
        "#variable\n",
        "x=3\n",
        "print({3,4,5})\n",
        "print({\"name\":\"Betty\",\"age\":\"50\"})\n",
        "print(x)"
      ],
      "metadata": {
        "colab": {
          "base_uri": "https://localhost:8080/"
        },
        "id": "PfQyEhlvoKY7",
        "outputId": "2ca8dd5f-7767-4321-fa40-cf6226515ec1"
      },
      "execution_count": 38,
      "outputs": [
        {
          "output_type": "stream",
          "name": "stdout",
          "text": [
            "{3, 4, 5}\n",
            "{'name': 'Betty', 'age': '50'}\n",
            "3\n"
          ]
        }
      ]
    },
    {
      "cell_type": "code",
      "source": [
        "#數字運算\n",
        "x=3+6\n",
        "print(x)\n",
        "x=3**2 #次方\n",
        "print(x)\n",
        "x=3//6 #整數除法\n",
        "print(x)\n",
        "x=7%3 #mod\n",
        "print(x)\n",
        "x+=1 #x=x+1\n",
        "x-=3\n",
        "x*=2\n",
        "x/=2\n",
        "print(x)"
      ],
      "metadata": {
        "colab": {
          "base_uri": "https://localhost:8080/"
        },
        "id": "YBEiNGxPuaTT",
        "outputId": "12e81019-bce3-4b2a-8999-eeaf8a1b86a2"
      },
      "execution_count": 16,
      "outputs": [
        {
          "output_type": "stream",
          "name": "stdout",
          "text": [
            "9\n",
            "9\n",
            "0\n",
            "1\n",
            "-1.0\n"
          ]
        }
      ]
    },
    {
      "cell_type": "code",
      "source": [
        "#字串運算\n",
        "s=\"Hello\"+\"world\"\n",
        "s=\"Hello\"\"world\"\n",
        "t=\"hel\\\"lo\\\"\"\n",
        "print(s)\n",
        "print(t)\n",
        "s=\"hello\\nworld\"\n",
        "s=\"\"\"HELLO\n",
        "\n",
        "WORLD\"\"\"\n",
        "print(s)\n",
        "print(s[0])\n",
        "print(s[2:])\n",
        "print(s[:3])"
      ],
      "metadata": {
        "colab": {
          "base_uri": "https://localhost:8080/"
        },
        "id": "-Iq6ieTIv0NN",
        "outputId": "455d6577-ac09-46ca-b3d4-5005e7f24968"
      },
      "execution_count": 28,
      "outputs": [
        {
          "output_type": "stream",
          "name": "stdout",
          "text": [
            "Helloworld\n",
            "hel\"lo\"\n",
            "HELLO\n",
            "\n",
            "WORLD\n",
            "H\n",
            "LLO\n",
            "\n",
            "WORLD\n",
            "HEL\n"
          ]
        }
      ]
    },
    {
      "cell_type": "code",
      "source": [
        "#列表\n",
        "a=[34,70,65,90]\n",
        "a[1]=[]\n",
        "a=a+[32,11]\n",
        "print(a)\n",
        "print(len(a))\n",
        "#巢狀列表\n",
        "a=[[34,70,65,90],[32,11]]\n",
        "print(a[1][0])\n",
        "a[0][0:2]=[5,5,5] #tuple小括號()不可以更動\n",
        "print(a)\n",
        "#"
      ],
      "metadata": {
        "colab": {
          "base_uri": "https://localhost:8080/"
        },
        "id": "FBpHye9T3cSf",
        "outputId": "c2c6eada-ef0d-4253-9f92-88e932d584a8"
      },
      "execution_count": 36,
      "outputs": [
        {
          "output_type": "stream",
          "name": "stdout",
          "text": [
            "[34, [], 65, 90, 32, 11]\n",
            "6\n",
            "32\n",
            "[[5, 5, 5, 65, 90], [32, 11]]\n"
          ]
        }
      ]
    },
    {
      "cell_type": "code",
      "source": [
        "# Set\n",
        "a={3,4,5}\n",
        "b={5,6,7}\n",
        "print(a|b)# 聯集\n",
        "print(a&b)# 交集\n",
        "print(a-b)# 差集\n",
        "print(a^b)# 反交集\n",
        "print(3 not in a)\n",
        "s=set(\"HELLO\")#順序隨機\n",
        "print(s)\n",
        "print(\"H\" in s)"
      ],
      "metadata": {
        "colab": {
          "base_uri": "https://localhost:8080/"
        },
        "id": "ot4a2VG5Btf2",
        "outputId": "6ddf2260-5fc7-4799-e6a4-29c851834d42"
      },
      "execution_count": 45,
      "outputs": [
        {
          "output_type": "stream",
          "name": "stdout",
          "text": [
            "{3, 4, 5, 6, 7}\n",
            "{5}\n",
            "{3, 4}\n",
            "{3, 4, 6, 7}\n",
            "False\n",
            "{'O', 'H', 'E', 'L'}\n",
            "True\n"
          ]
        }
      ]
    },
    {
      "cell_type": "code",
      "source": [
        "# 字典(key-value)\n",
        "dic={\"name\":\"Betty\",\"age\":\"50\"}\n",
        "dic[\"name\"]=\"Doris\"\n",
        "print(dic)\n",
        "print(dic[\"age\"])\n",
        "print(\"name\" in dic)\n",
        "print(\"Doris\" in dic)\n",
        "del dic[\"age\"]\n",
        "print(dic)\n",
        "print(dic.keys())\n",
        "print(dic.values())\n",
        "print(dic.items())\n",
        "dic={x:x*2 for x in [3,4,5]}\n",
        "print(dic)\n",
        "print(dic[3])\n"
      ],
      "metadata": {
        "colab": {
          "base_uri": "https://localhost:8080/"
        },
        "id": "E8_3CbQ-Fmbb",
        "outputId": "8f4b2d6b-e744-4fb4-b4f1-4738bc862a65"
      },
      "execution_count": 51,
      "outputs": [
        {
          "output_type": "stream",
          "name": "stdout",
          "text": [
            "{'name': 'Doris', 'age': '50'}\n",
            "50\n",
            "True\n",
            "False\n",
            "{'name': 'Doris'}\n",
            "dict_keys(['name'])\n",
            "dict_values(['Doris'])\n",
            "dict_items([('name', 'Doris')])\n",
            "{3: 6, 4: 8, 5: 10}\n",
            "6\n"
          ]
        }
      ]
    },
    {
      "cell_type": "code",
      "source": [
        "x=int(input(\"請輸入數字一個:\"))\n",
        "y=int(input(\"請輸入數字二個:\"))\n",
        "op=input(\"請輸入運算+,-,*,/:\")\n",
        "if op==\"+\":\n",
        "    print(x+y)\n",
        "elif op==\"-\":\n",
        "    print(x-y)\n",
        "elif op==\"*\":\n",
        "    print(x*y)\n",
        "elif op==\"/\":\n",
        "    print(x/y)\n",
        "else:\n",
        "    print(\"不支援運算\")"
      ],
      "metadata": {
        "colab": {
          "base_uri": "https://localhost:8080/"
        },
        "id": "8Mjd1gz3Iov9",
        "outputId": "697020df-e864-456b-92c6-8fc4a8791d5c"
      },
      "execution_count": 61,
      "outputs": [
        {
          "output_type": "stream",
          "name": "stdout",
          "text": [
            "請輸入數字一個:4\n",
            "請輸入數字二個:8\n",
            "請輸入運算+,-,*,/:/\n",
            "0.5\n"
          ]
        }
      ]
    },
    {
      "cell_type": "code",
      "source": [
        "from os import XATTR_SIZE_MAX\n",
        "# while\n",
        "n=1\n",
        "sum=0\n",
        "while n<=10:\n",
        "  sum=sum+n\n",
        "  n+=1\n",
        "  if n==9:\n",
        "    break #強迫終止迴圈\n",
        "# else:\n",
        "#   print(n)\n",
        "\n",
        "print(sum)\n",
        "# for\n",
        "for x in range(1,11):\n",
        "  sum+=x\n",
        "else: #迴圈結束前執行\n",
        "  print(sum)\n",
        "\n",
        "for x in [1,2,3,4]:\n",
        "  if x%2==0:\n",
        "    continue #強迫跳過\n",
        "  print(x)\n",
        "#例題:\n",
        "#找出整數平方根\n",
        "x=int(input(\"請輸入一個數字:\"))\n",
        "for i in range(x):\n",
        "  if i*i==x:\n",
        "    print(\"x的平方根等於\",i)\n",
        "    break #不會再執行else\n",
        "else:\n",
        "  print(x,\"的平方根不是整數\")\n"
      ],
      "metadata": {
        "colab": {
          "base_uri": "https://localhost:8080/"
        },
        "id": "mtEfR9vsaKc0",
        "outputId": "f48da96a-62d3-40e1-81ce-5871d19100ce"
      },
      "execution_count": 73,
      "outputs": [
        {
          "output_type": "stream",
          "name": "stdout",
          "text": [
            "36\n",
            "91\n",
            "1\n",
            "3\n",
            "請輸入一個數字:15\n",
            "15 的平方根不是整數\n"
          ]
        }
      ]
    },
    {
      "cell_type": "code",
      "source": [
        "#定義函式\n",
        "#函式內部沒有被呼叫就不會執行\n",
        "def add(n1,n2):\n",
        "  result=n1+n2\n",
        "  print(result)\n",
        "  return #沒給定回傳None\n",
        "value=add(4,5) #呼叫函數跑出print\n",
        "print(value)\n",
        "#函式接受無限參數個數\n",
        "def avg(*ns): #以tuple方式儲存\n",
        "  sum=0\n",
        "  for n in ns:\n",
        "    sum+=n\n",
        "    result=sum/len(ns)\n",
        "    return result\n",
        "avg(2,2,4)"
      ],
      "metadata": {
        "colab": {
          "base_uri": "https://localhost:8080/"
        },
        "id": "jtrI2a7Alg5f",
        "outputId": "2c784ed6-cb16-49ee-cdaa-e21f2798b311"
      },
      "execution_count": 79,
      "outputs": [
        {
          "output_type": "stream",
          "name": "stdout",
          "text": [
            "9\n",
            "None\n"
          ]
        },
        {
          "output_type": "execute_result",
          "data": {
            "text/plain": [
              "0.6666666666666666"
            ]
          },
          "metadata": {},
          "execution_count": 79
        }
      ]
    }
  ]
}