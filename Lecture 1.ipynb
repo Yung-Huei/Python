{
  "nbformat": 4,
  "nbformat_minor": 0,
  "metadata": {
    "colab": {
      "provenance": [],
      "authorship_tag": "ABX9TyOVTNGCR7T/c+vht5oPs6up",
      "include_colab_link": true
    },
    "kernelspec": {
      "name": "python3",
      "display_name": "Python 3"
    },
    "language_info": {
      "name": "python"
    }
  },
  "cells": [
    {
      "cell_type": "markdown",
      "metadata": {
        "id": "view-in-github",
        "colab_type": "text"
      },
      "source": [
        "<a href=\"https://colab.research.google.com/github/Yung-Huei/Python/blob/main/Lecture%201.ipynb\" target=\"_parent\"><img src=\"https://colab.research.google.com/assets/colab-badge.svg\" alt=\"Open In Colab\"/></a>"
      ]
    },
    {
      "cell_type": "code",
      "source": [
        "#數字\n",
        "3456\n",
        "3.5\n",
        "#字串\n",
        "\"My name\"\n",
        "\"我的名子\"\n",
        "#boolean\n",
        "True\n",
        "False\n",
        "#List 有順序可動\n",
        "[3,4,5]\n",
        "[\"Betty\",\"Doris\"]\n",
        "#Tuple 有順序不可動\n",
        "(3,4,5)\n",
        "#Set 集合 無順序可動\n",
        "{3,4,5}\n",
        "#Dictionary 字典\n",
        "{\"name\":\"Betty\",\"age\":\"50\"}\n",
        "#variable\n",
        "x=3\n",
        "print({3,4,5})\n",
        "print({\"name\":\"Betty\",\"age\":\"50\"})\n",
        "print(x)"
      ],
      "metadata": {
        "colab": {
          "base_uri": "https://localhost:8080/"
        },
        "id": "PfQyEhlvoKY7",
        "outputId": "39b43af5-e6de-45f0-8d82-1fbe3a4507e0"
      },
      "execution_count": 10,
      "outputs": [
        {
          "output_type": "stream",
          "name": "stdout",
          "text": [
            "{3, 4, 5}\n",
            "{'name': 'Betty', 'age': '50'}\n",
            "3\n"
          ]
        }
      ]
    },
    {
      "cell_type": "code",
      "source": [
        "#數字運算\n",
        "x=3+6\n",
        "print(x)\n",
        "x=3**2 #次方\n",
        "print(x)\n",
        "x=3//6 #整數除法\n",
        "print(x)\n",
        "x=7%3 #mod\n",
        "print(x)\n",
        "x+=1 #x=x+1\n",
        "x-=3\n",
        "x*=2\n",
        "x/=2\n",
        "print(x)"
      ],
      "metadata": {
        "colab": {
          "base_uri": "https://localhost:8080/"
        },
        "id": "YBEiNGxPuaTT",
        "outputId": "12e81019-bce3-4b2a-8999-eeaf8a1b86a2"
      },
      "execution_count": 16,
      "outputs": [
        {
          "output_type": "stream",
          "name": "stdout",
          "text": [
            "9\n",
            "9\n",
            "0\n",
            "1\n",
            "-1.0\n"
          ]
        }
      ]
    },
    {
      "cell_type": "code",
      "source": [
        "#字串運算\n",
        "s=\"Hello\"+\"world\"\n",
        "s=\"Hello\"\"world\"\n",
        "t=\"hel\\\"lo\\\"\"\n",
        "print(s)\n",
        "print(t)\n",
        "s=\"hello\\nworld\"\n",
        "s=\"\"\"HELLO\n",
        "\n",
        "WORLD\"\"\"\n",
        "print(s)\n",
        "print(s[0])\n",
        "print(s[2:])\n",
        "print(s[:3])"
      ],
      "metadata": {
        "colab": {
          "base_uri": "https://localhost:8080/"
        },
        "id": "-Iq6ieTIv0NN",
        "outputId": "455d6577-ac09-46ca-b3d4-5005e7f24968"
      },
      "execution_count": 28,
      "outputs": [
        {
          "output_type": "stream",
          "name": "stdout",
          "text": [
            "Helloworld\n",
            "hel\"lo\"\n",
            "HELLO\n",
            "\n",
            "WORLD\n",
            "H\n",
            "LLO\n",
            "\n",
            "WORLD\n",
            "HEL\n"
          ]
        }
      ]
    },
    {
      "cell_type": "code",
      "execution_count": 6,
      "metadata": {
        "colab": {
          "base_uri": "https://localhost:8080/",
          "height": 53
        },
        "id": "S9kputg5nEMT",
        "outputId": "d780271e-7bfc-4ac5-8356-efa81bf03e01"
      },
      "outputs": [
        {
          "output_type": "stream",
          "name": "stdout",
          "text": [
            "My name is Betty.\n"
          ]
        },
        {
          "output_type": "execute_result",
          "data": {
            "text/plain": [
              "'Betty'"
            ],
            "application/vnd.google.colaboratory.intrinsic+json": {
              "type": "string"
            }
          },
          "metadata": {},
          "execution_count": 6
        }
      ],
      "source": [
        "name=\"Betty\"\n",
        "print(f\"My name is {name}.\")\n",
        "name"
      ]
    }
  ]
}