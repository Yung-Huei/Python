{
  "nbformat": 4,
  "nbformat_minor": 0,
  "metadata": {
    "colab": {
      "provenance": [],
      "authorship_tag": "ABX9TyNOzFlIwe9X9JnMve1eSozG",
      "include_colab_link": true
    },
    "kernelspec": {
      "name": "python3",
      "display_name": "Python 3"
    },
    "language_info": {
      "name": "python"
    }
  },
  "cells": [
    {
      "cell_type": "markdown",
      "metadata": {
        "id": "view-in-github",
        "colab_type": "text"
      },
      "source": [
        "<a href=\"https://colab.research.google.com/github/Yung-Huei/Python/blob/main/PyTorch.ipynb\" target=\"_parent\"><img src=\"https://colab.research.google.com/assets/colab-badge.svg\" alt=\"Open In Colab\"/></a>"
      ]
    },
    {
      "cell_type": "markdown",
      "source": [
        "A Sample Torch Code"
      ],
      "metadata": {
        "id": "FxjcDbxCm8EH"
      }
    },
    {
      "cell_type": "code",
      "source": [
        "import torch\n",
        "import torch.nn as nn\n",
        "import torch.nn.functional as F\n",
        "import torch.optim as optim\n",
        "\n",
        "# Define a simple neural network\n",
        "class Net(nn.Module): # nn.Module 是父類別; 子類別不用重寫父類別已經有的功能\n",
        "  def __init__(self):\n",
        "    super(Net,self).__init__() #呼叫父類別並正確使用父類別的功能\n",
        "                  #參數註冊（可以自動找出模型裡的參數）\n",
        "                  #.to() 方法（把模型搬到 GPU）\n",
        "                  #.eval() 和 .train() 模式切換\n",
        "                  #.state_dict() 和 .load_state_dict() 儲存／讀取模型參數\n",
        "    self.fc1=nn.Linear(320,50) #全連接層\n",
        "    self.fc2=nn.Linear(50,10)\n",
        "\n",
        "  def forward(self,x): #PyTorch 就會知道如何做前向傳播。\n",
        "    x=F.relu(self.fc1(x))\n",
        "    x=F.dropout(x)\n",
        "    x=self.fc2(x)\n",
        "    return F.log_softmax(x)\n",
        "# creat an instance of the network\n",
        "net=Net()"
      ],
      "metadata": {
        "id": "kG2YKQbjnFGE"
      },
      "execution_count": null,
      "outputs": []
    },
    {
      "cell_type": "code",
      "source": [
        "#data loading\n",
        "train_loader=torch.utils.data.DataLoader(train_data,batch_size=10,shuffle=True)\n",
        "#defin a loss function and optimizer\n",
        "criterion=nn.CrossEntropyLoss() #會自動做softmax+log+NLL\n",
        "optimizer=optim.SGD(net.parameters(),lr=0.001) #將參數傳給optim\n",
        "#training loop\n",
        "for epoch in range(10):\n",
        "  for inputs, targets in train_loader: #e.g., image, label\n",
        "    optimizer.zero_grad() #清除上一個 batch 的梯度，避免梯度累加錯誤\n",
        "    outputs=net(inputs)\n",
        "    loss=criterion(outputs,targets)\n",
        "    loss.backward() #根據 loss 對模型參數計算「梯度」\n",
        "    optimizer.step() #使用梯度更新參數\n"
      ],
      "metadata": {
        "id": "wkJIqiOxOl0v"
      },
      "execution_count": null,
      "outputs": []
    },
    {
      "cell_type": "markdown",
      "source": [
        "**Datasets**\n",
        "\n",
        "*   The Dataset class allows you to define how data samples are accessed and prepared.\n",
        "*   Custom datasets can be implemented by subclassing torch.utils.data.Dataset and defining__getitem__and__len__methods.\n",
        "*   Built-in Datasets: PyTorch provides ready-to-use datasets such as MNIST and CIFAR-10 through torchvision.datasets.\n",
        "\n",
        "**DataLoader**\n",
        "\n",
        "*   Combines datasets into batches, shuffles data, and handles multiprocessing for loading data efficiently.\n"
      ],
      "metadata": {
        "id": "KOOrjvV1mpUU"
      }
    },
    {
      "cell_type": "code",
      "source": [
        "# Loading FashionMNIST\n",
        "from torchvision import datasets\n",
        "from torchvision.transforms import ToTensor\n",
        "training_data = datasets.FashionMNIST(\n",
        "    root=\"data\", #下載存放在data資料夾中\n",
        "    train=True,  #載入訓練資料集，反之，測試集\n",
        "    download=True, #如果 data/ 裡面還沒有這個資料集，會自動從網路上下載。\n",
        "    transform=ToTensor() #每張圖會先轉成 PyTorch tensor 格式\n",
        ")"
      ],
      "metadata": {
        "colab": {
          "base_uri": "https://localhost:8080/"
        },
        "id": "6BlHiYEGmwD4",
        "outputId": "be8c7f61-ea71-42cd-d10b-52c2eaa2f2ee"
      },
      "execution_count": 1,
      "outputs": [
        {
          "output_type": "stream",
          "name": "stderr",
          "text": [
            "100%|██████████| 26.4M/26.4M [00:01<00:00, 17.6MB/s]\n",
            "100%|██████████| 29.5k/29.5k [00:00<00:00, 268kB/s]\n",
            "100%|██████████| 4.42M/4.42M [00:00<00:00, 5.09MB/s]\n",
            "100%|██████████| 5.15k/5.15k [00:00<00:00, 13.0MB/s]\n"
          ]
        }
      ]
    }
  ]
}