{
  "nbformat": 4,
  "nbformat_minor": 0,
  "metadata": {
    "colab": {
      "provenance": [],
      "authorship_tag": "ABX9TyMG8oSFbpkqHxQ1tUlq+6Y+",
      "include_colab_link": true
    },
    "kernelspec": {
      "name": "python3",
      "display_name": "Python 3"
    },
    "language_info": {
      "name": "python"
    }
  },
  "cells": [
    {
      "cell_type": "markdown",
      "metadata": {
        "id": "view-in-github",
        "colab_type": "text"
      },
      "source": [
        "<a href=\"https://colab.research.google.com/github/Yung-Huei/Python/blob/main/PyTorch.ipynb\" target=\"_parent\"><img src=\"https://colab.research.google.com/assets/colab-badge.svg\" alt=\"Open In Colab\"/></a>"
      ]
    },
    {
      "cell_type": "markdown",
      "source": [
        "A Sample Torch Code"
      ],
      "metadata": {
        "id": "FxjcDbxCm8EH"
      }
    },
    {
      "cell_type": "code",
      "source": [
        "import torch\n",
        "import torch.nn as nn\n",
        "import torch.nn.functional as F\n",
        "import torch.optim as optim\n",
        "\n",
        "# Define a simple neural network\n",
        "class Net(nn.Module): # nn.Module 是父類別; 子類別不用重寫父類別已經有的功能\n",
        "  def __init__(self):\n",
        "    super(Net,self).__init__() #呼叫父類別並正確使用父類別的功能\n",
        "                  #參數註冊（可以自動找出模型裡的參數）\n",
        "                  #.to() 方法（把模型搬到 GPU）\n",
        "                  #.eval() 和 .train() 模式切換\n",
        "                  #.state_dict() 和 .load_state_dict() 儲存／讀取模型參數\n",
        "    self.fc1=nn.Linear(320,50) #全連接層\n",
        "    self.fc2=nn.Linear(50,10)\n",
        "\n",
        "  def forward(self,x): #PyTorch 就會知道如何做前向傳播。\n",
        "    x=F.relu(self.fc1(x))\n",
        "    x=F.dropout(x)\n",
        "    x=self.fc2(x)\n",
        "    return F.log_softmax(x)\n",
        "# creat an instance of the network\n",
        "net=Net()"
      ],
      "metadata": {
        "id": "kG2YKQbjnFGE"
      },
      "execution_count": null,
      "outputs": []
    },
    {
      "cell_type": "code",
      "source": [
        "#data loading\n",
        "train_loader = torch.utils.data.DataLoader(train_data, batch_size=10, shuffle=True)\n",
        "#defin a loss function and optimizer\n",
        "criterion=nn.CrossEntropyLoss() #會自動做softmax+log+NLL; loss: e.g., nn.MSELoss,nn.CrossEntropyLoss\n",
        "optimizer=optim.SGD(net.parameters(),lr=0.001) #將net參數傳給optim; e.g., optim.SGD or torch.optim.Adam\n",
        "#training loop\n",
        "for epoch in range(10):\n",
        "  for inputs, targets in train_loader: #e.g., image, label\n",
        "    optimizer.zero_grad() #清除上一個 batch 的梯度，避免梯度累加錯誤\n",
        "    outputs=net(inputs)\n",
        "    loss=criterion(outputs,targets)\n",
        "    loss.backward() #根據 loss 對模型參數計算「梯度」\n",
        "    optimizer.step() #使用梯度更新參數\n",
        "\n",
        "# testing loop\n",
        "net.eval()  # 切換成 eval 模式（停用 dropout、batchnorm）\n",
        "with torch.no_grad():  # 不儲存梯度（加快速度）;不記錄計算圖（節省記憶體）\n",
        "    for inputs, targets in test_loader:\n",
        "        outputs = net(inputs) #在tensor計算時會儲存計算圖和梯度為了後續backward，故需要torch.no_grad()\n",
        "        # 可以加上評估準確率的程式碼，例如：\n",
        "        # predicted = outputs.argmax(dim=1)\n",
        "        # correct += (predicted == targets).sum().item()\n"
      ],
      "metadata": {
        "id": "wkJIqiOxOl0v"
      },
      "execution_count": null,
      "outputs": []
    },
    {
      "cell_type": "markdown",
      "source": [
        "**Datasets**\n",
        "\n",
        "*   The Dataset class allows you to define how data samples are accessed and prepared.\n",
        "*   Custom datasets can be implemented by subclassing torch.utils.data.Dataset and defining__getitem__and__len__methods.\n",
        "*   Built-in Datasets: PyTorch provides ready-to-use datasets such as MNIST and CIFAR-10 through torchvision.datasets.\n",
        "\n",
        "**DataLoader**\n",
        "\n",
        "*   Combines datasets into batches, shuffles data, and handles multiprocessing for loading data efficiently.\n"
      ],
      "metadata": {
        "id": "KOOrjvV1mpUU"
      }
    },
    {
      "cell_type": "code",
      "source": [
        "# Loading FashionMNIST\n",
        "from torchvision import datasets\n",
        "from torchvision.transforms import ToTensor\n",
        "training_data = datasets.FashionMNIST(\n",
        "    root=\"data\", #下載存放在data資料夾中\n",
        "    train=True,  #載入訓練資料集，反之，測試集\n",
        "    download=True, #如果 data/ 裡面還沒有這個資料集，會自動從網路上下載。\n",
        "    transform=ToTensor() #每張圖會先轉成 PyTorch tensor 格式\n",
        ")\n",
        "print(len(training_data)) #是物件所以使用len非.size\n",
        "import torch\n",
        "labels = training_data.targets  # 是一個 Tensor\n",
        "print(torch.unique(labels))     # 看有哪些類別\n",
        "print(f\"共有 {len(torch.unique(labels))} 種 label\")\n"
      ],
      "metadata": {
        "colab": {
          "base_uri": "https://localhost:8080/"
        },
        "id": "6BlHiYEGmwD4",
        "outputId": "eaba8f4e-2d4c-4f29-cbda-dc613fad3215"
      },
      "execution_count": null,
      "outputs": [
        {
          "output_type": "stream",
          "name": "stdout",
          "text": [
            "60000\n",
            "tensor([0, 1, 2, 3, 4, 5, 6, 7, 8, 9])\n",
            "共有 10 種 label\n"
          ]
        }
      ]
    },
    {
      "cell_type": "code",
      "source": [
        "from torch.utils.data import DataLoader\n",
        "train_dataloader=DataLoader(training_data,batch_size=64,shuffle=True) #批次資料載入器（DataLoader）\n",
        "train_features,train_labels=next(iter(train_dataloader)) #透過 iter() 得到的物件，可以用 next() 一筆一筆拿資料\n",
        "print(f\"Feature batch shape: {train_features.size()}\")\n",
        "print(f\"Labels batch shape: {train_labels.size()}\")\n",
        "\n",
        "#視覺化\n",
        "import matplotlib.pyplot as plt\n",
        "\n",
        "# 1. 取出第 n 張圖（例如第 0 張）\n",
        "image, label = training_data[0]\n",
        "\n",
        "# 2. 把張量轉成圖像來顯示\n",
        "plt.imshow(image.squeeze(), cmap=\"gray\")\n",
        "class_names = [\"T-shirt\", \"Trouser\", \"Pullover\", \"Dress\", \"Coat\",\n",
        "               \"Sandal\", \"Shirt\", \"Sneaker\", \"Bag\", \"Ankle boot\"]\n",
        "\n",
        "plt.title(f\"Label: {label} ({class_names[label]})\")\n",
        "plt.axis(\"off\")\n",
        "plt.show()\n",
        "\n",
        "# 一次畫多張圖\n",
        "plt.figure(figsize=(12, 6))  # 設定畫布大小 寬12inch and 高6inch\n",
        "for i in range(10):\n",
        "    image, label = training_data[i]\n",
        "    image = image.squeeze()  # 去掉通道維度 [1,28,28] → [28,28]\n",
        "\n",
        "    plt.subplot(2, 5, i + 1)  # 2列5欄的子圖，第i+1個\n",
        "    plt.imshow(image, cmap=\"gray\")\n",
        "    plt.title(f\"{label}: {class_names[label]}\")\n",
        "    plt.axis(\"off\") #不要坐標軸\n",
        "\n",
        "plt.tight_layout() #自動調整子圖間距\n",
        "plt.show()\n",
        "\n"
      ],
      "metadata": {
        "colab": {
          "base_uri": "https://localhost:8080/",
          "height": 959
        },
        "id": "hdIYUhrJuKdC",
        "outputId": "f90a2126-ed10-407d-84b4-dc64691433c6"
      },
      "execution_count": null,
      "outputs": [
        {
          "output_type": "stream",
          "name": "stdout",
          "text": [
            "Feature batch shape: torch.Size([64, 1, 28, 28])\n",
            "Labels batch shape: torch.Size([64])\n"
          ]
        },
        {
          "output_type": "display_data",
          "data": {
            "text/plain": [
              "<Figure size 640x480 with 1 Axes>"
            ],
            "image/png": "[encoded data removed]"
          },
          "metadata": {}
        },
        {
          "output_type": "display_data",
          "data": {
            "text/plain": [
              "<Figure size 1200x600 with 10 Axes>"
            ],
            "image/png": "[encoded data removed]"
          },
          "metadata": {}
        }
      ]
    },
    {
      "cell_type": "code",
      "source": [
        "# Network Structure\n",
        "class NeuralNetwork(nn.Module): #定義一個神經網路類別，繼承自 PyTorch 的基礎模組 nn.Module\n",
        "  def __init__(self):\n",
        "    super().__init__() #初始化網路結構，這裡定義了網路有哪些層（Layer）\n",
        "    self.flatten=nn.Flatten() #[batch_size, channels, height, width]）轉換成：[batch_size, channels × height × width]\n",
        "    self.linear_relu_stack=nn.Seqeuntial(\n",
        "        nn.Linear(28*28,512), # nn.Linear, nn.Conv2d, nn.LSTM\n",
        "        nn.ReLU(),      # ReLU, Sigmoid, and Tanh\n",
        "        nn.Linear(512,512),\n",
        "        nn.ReLU(),\n",
        "        nn.Linear(512,10)\n",
        "    )\n",
        "  def forward(self,x):\n",
        "    x=self.flatten(x)\n",
        "    logits=self.linear_relu_stack(x)\n",
        "    return logits\n",
        "\n",
        "# Instantizeand send weights to GPU\n",
        "#device='cuda' if torch.cuda.is_available() else 'cpu'\n",
        "model=NeuralNetwork().to(device)\n",
        "X=torch.rand(1,28,28,device=device)\n",
        "logits=model(X)\n"
      ],
      "metadata": {
        "id": "yyHK64_97FIs"
      },
      "execution_count": null,
      "outputs": []
    },
    {
      "cell_type": "code",
      "source": [
        "# Auto-differentiation (Pytorch has a built-in engine called autograd for calculating gradients.)\n",
        "x=torch.ones(5) #列向量\n",
        "y=torch.zeros(3)\n",
        "w=torch.randn(5,3,requires_grad=True) # When you use backward to calculate the grad,\n",
        "                  # pytorch calculates the gradient of each component that requires_grad and store it.\n",
        "print(x.shape)\n",
        "print(w.shape)\n",
        "b=torch.randn(3,requires_grad=True)\n",
        "z=torch.matmul(x,w)+b\n",
        "loss=torch.nn.functional.binary_cross_entropy_with_logits(z,y)"
      ],
      "metadata": {
        "colab": {
          "base_uri": "https://localhost:8080/"
        },
        "id": "c_ZAp0pGKflw",
        "outputId": "abf836d2-d5cd-4411-cc6e-5f96b65b715e"
      },
      "execution_count": null,
      "outputs": [
        {
          "output_type": "stream",
          "name": "stdout",
          "text": [
            "torch.Size([5])\n",
            "torch.Size([5, 3])\n"
          ]
        }
      ]
    },
    {
      "cell_type": "code",
      "source": [
        "#from google.colab import drive\n",
        "#drive.mount('/content/drive')\n",
        "#%cd /content/drive/MyDrive\n",
        "\n",
        "#!git clone https://github.com/RunpengDai/ICSA_DLcourse.git\n",
        "!git clone https://github.com/RunpengDai/BIOS740.git\n"
      ],
      "metadata": {
        "colab": {
          "base_uri": "https://localhost:8080/"
        },
        "id": "6Ygg7K6BN1hn",
        "outputId": "5b4c41bc-6633-4309-fdb9-9dd197963555"
      },
      "execution_count": null,
      "outputs": [
        {
          "output_type": "stream",
          "name": "stdout",
          "text": [
            "Cloning into 'BIOS740'...\n",
            "remote: Enumerating objects: 405, done.\u001b[K\n",
            "remote: Counting objects: 100% (6/6), done.\u001b[K\n",
            "remote: Compressing objects: 100% (5/5), done.\u001b[K\n",
            "remote: Total 405 (delta 2), reused 1 (delta 1), pack-reused 399 (from 2)\u001b[K\n",
            "Receiving objects: 100% (405/405), 306.13 MiB | 13.30 MiB/s, done.\n",
            "Resolving deltas: 100% (105/105), done.\n",
            "Updating files: 100% (145/145), done.\n"
          ]
        }
      ]
    },
    {
      "cell_type": "code",
      "source": [
        "# Loss function\n",
        "# Binary Cross Entropy function (BCE)\n",
        "predictions = torch.sigmoid(torch.randn(4))\n",
        "labels = torch.tensor([1, 0, 1, 0], dtype=torch.float32)\n",
        "criterion = nn.BCELoss()\n",
        "loss = criterion(predictions, labels)\n",
        "\n",
        "# Cross Entropy Loss\n",
        "predictions = torch.randn(4, 5)\n",
        "labels = torch.tensor([1, 0, 3, 2], dtype=torch.long) # Should contain the class indices (not one-hot encoded) and should be of type torch.long\n",
        "# softmax_predictions = torch.softmax(predictions, dim=1) # 對每一列執行 softmax\n",
        "criterion = nn.CrossEntropyLoss()\n",
        "loss = criterion(predictions, labels)\n",
        "\n",
        "# KL divergence\n",
        "predicted_log_probs = torch.log_softmax(torch.randn(4, 5), dim=1) # log\n",
        "true_probs = torch.softmax(torch.randn(4, 5), dim=1) # no log\n",
        "criterion = nn.KLDivLoss(reduction='batchmean') # 除以 batch size; controls how the individual loss values in a batch are combined into a single scalar loss value.(none/ mean/ sum)\n",
        "loss = criterion(predicted_log_probs, true_probs)\n",
        "\n",
        "# NLL Loss\n",
        "log_probs = torch.log_softmax(torch.randn(4, 5), dim=1)\n",
        "labels = torch.tensor([1, 0, 3, 2]) # Class labels for each sample\n",
        "criterion = nn.NLLLoss()\n",
        "loss = criterion(log_probs, labels)"
      ],
      "metadata": {
        "id": "aoEaJMhH2SyS"
      },
      "execution_count": null,
      "outputs": []
    },
    {
      "cell_type": "code",
      "source": [
        "import torch\n",
        "def corr2d(X, K):\n",
        "\"\"\"Compute 2D cross-correlation.\"\"\"\n",
        "h, w = K.shape\n",
        "Y = torch.zeros((X.shape[0] - h + 1, X.shape[1] - w + 1))\n",
        "for i in range(Y.shape[0]):\n",
        "for j in range(Y.shape[1]):\n",
        "Y[i, j] = (X[i:i + h, j:j + w] * K).sum()\n",
        "return Y"
      ],
      "metadata": {
        "id": "o5fAGhA5Q1p6"
      },
      "execution_count": null,
      "outputs": []
    },
    {
      "cell_type": "code",
      "source": [],
      "metadata": {
        "id": "mKGuQ41qQ2hd"
      },
      "execution_count": null,
      "outputs": []
    }
  ]
}